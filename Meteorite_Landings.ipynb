{
 "cells": [
  {
   "cell_type": "code",
   "execution_count": 22,
   "metadata": {},
   "outputs": [],
   "source": [
    "import numpy as np\n",
    "import pandas as pd\n",
    "from scipy import stats\n",
    "import matplotlib.pyplot as plt\n",
    "\n",
    "%matplotlib inline"
   ]
  },
  {
   "cell_type": "code",
   "execution_count": 2,
   "metadata": {},
   "outputs": [
    {
     "data": {
      "text/html": [
       "<div>\n",
       "<style scoped>\n",
       "    .dataframe tbody tr th:only-of-type {\n",
       "        vertical-align: middle;\n",
       "    }\n",
       "\n",
       "    .dataframe tbody tr th {\n",
       "        vertical-align: top;\n",
       "    }\n",
       "\n",
       "    .dataframe thead th {\n",
       "        text-align: right;\n",
       "    }\n",
       "</style>\n",
       "<table border=\"1\" class=\"dataframe\">\n",
       "  <thead>\n",
       "    <tr style=\"text-align: right;\">\n",
       "      <th></th>\n",
       "      <th>name</th>\n",
       "      <th>nametype</th>\n",
       "      <th>recclass</th>\n",
       "      <th>mass (g)</th>\n",
       "      <th>fall</th>\n",
       "      <th>year</th>\n",
       "      <th>reclat</th>\n",
       "      <th>reclong</th>\n",
       "      <th>GeoLocation</th>\n",
       "    </tr>\n",
       "    <tr>\n",
       "      <th>id</th>\n",
       "      <th></th>\n",
       "      <th></th>\n",
       "      <th></th>\n",
       "      <th></th>\n",
       "      <th></th>\n",
       "      <th></th>\n",
       "      <th></th>\n",
       "      <th></th>\n",
       "      <th></th>\n",
       "    </tr>\n",
       "  </thead>\n",
       "  <tbody>\n",
       "    <tr>\n",
       "      <th>1</th>\n",
       "      <td>Aachen</td>\n",
       "      <td>Valid</td>\n",
       "      <td>L5</td>\n",
       "      <td>21.0</td>\n",
       "      <td>Fell</td>\n",
       "      <td>1880.0</td>\n",
       "      <td>50.77500</td>\n",
       "      <td>6.08333</td>\n",
       "      <td>(50.775, 6.08333)</td>\n",
       "    </tr>\n",
       "    <tr>\n",
       "      <th>2</th>\n",
       "      <td>Aarhus</td>\n",
       "      <td>Valid</td>\n",
       "      <td>H6</td>\n",
       "      <td>720.0</td>\n",
       "      <td>Fell</td>\n",
       "      <td>1951.0</td>\n",
       "      <td>56.18333</td>\n",
       "      <td>10.23333</td>\n",
       "      <td>(56.18333, 10.23333)</td>\n",
       "    </tr>\n",
       "    <tr>\n",
       "      <th>6</th>\n",
       "      <td>Abee</td>\n",
       "      <td>Valid</td>\n",
       "      <td>EH4</td>\n",
       "      <td>107000.0</td>\n",
       "      <td>Fell</td>\n",
       "      <td>1952.0</td>\n",
       "      <td>54.21667</td>\n",
       "      <td>-113.00000</td>\n",
       "      <td>(54.21667, -113.0)</td>\n",
       "    </tr>\n",
       "    <tr>\n",
       "      <th>10</th>\n",
       "      <td>Acapulco</td>\n",
       "      <td>Valid</td>\n",
       "      <td>Acapulcoite</td>\n",
       "      <td>1914.0</td>\n",
       "      <td>Fell</td>\n",
       "      <td>1976.0</td>\n",
       "      <td>16.88333</td>\n",
       "      <td>-99.90000</td>\n",
       "      <td>(16.88333, -99.9)</td>\n",
       "    </tr>\n",
       "    <tr>\n",
       "      <th>370</th>\n",
       "      <td>Achiras</td>\n",
       "      <td>Valid</td>\n",
       "      <td>L6</td>\n",
       "      <td>780.0</td>\n",
       "      <td>Fell</td>\n",
       "      <td>1902.0</td>\n",
       "      <td>-33.16667</td>\n",
       "      <td>-64.95000</td>\n",
       "      <td>(-33.16667, -64.95)</td>\n",
       "    </tr>\n",
       "    <tr>\n",
       "      <th>...</th>\n",
       "      <td>...</td>\n",
       "      <td>...</td>\n",
       "      <td>...</td>\n",
       "      <td>...</td>\n",
       "      <td>...</td>\n",
       "      <td>...</td>\n",
       "      <td>...</td>\n",
       "      <td>...</td>\n",
       "      <td>...</td>\n",
       "    </tr>\n",
       "    <tr>\n",
       "      <th>31356</th>\n",
       "      <td>Zillah 002</td>\n",
       "      <td>Valid</td>\n",
       "      <td>Eucrite</td>\n",
       "      <td>172.0</td>\n",
       "      <td>Found</td>\n",
       "      <td>1990.0</td>\n",
       "      <td>29.03700</td>\n",
       "      <td>17.01850</td>\n",
       "      <td>(29.037, 17.0185)</td>\n",
       "    </tr>\n",
       "    <tr>\n",
       "      <th>30409</th>\n",
       "      <td>Zinder</td>\n",
       "      <td>Valid</td>\n",
       "      <td>Pallasite, ungrouped</td>\n",
       "      <td>46.0</td>\n",
       "      <td>Found</td>\n",
       "      <td>1999.0</td>\n",
       "      <td>13.78333</td>\n",
       "      <td>8.96667</td>\n",
       "      <td>(13.78333, 8.96667)</td>\n",
       "    </tr>\n",
       "    <tr>\n",
       "      <th>30410</th>\n",
       "      <td>Zlin</td>\n",
       "      <td>Valid</td>\n",
       "      <td>H4</td>\n",
       "      <td>3.3</td>\n",
       "      <td>Found</td>\n",
       "      <td>1939.0</td>\n",
       "      <td>49.25000</td>\n",
       "      <td>17.66667</td>\n",
       "      <td>(49.25, 17.66667)</td>\n",
       "    </tr>\n",
       "    <tr>\n",
       "      <th>31357</th>\n",
       "      <td>Zubkovsky</td>\n",
       "      <td>Valid</td>\n",
       "      <td>L6</td>\n",
       "      <td>2167.0</td>\n",
       "      <td>Found</td>\n",
       "      <td>2003.0</td>\n",
       "      <td>49.78917</td>\n",
       "      <td>41.50460</td>\n",
       "      <td>(49.78917, 41.5046)</td>\n",
       "    </tr>\n",
       "    <tr>\n",
       "      <th>30414</th>\n",
       "      <td>Zulu Queen</td>\n",
       "      <td>Valid</td>\n",
       "      <td>L3.7</td>\n",
       "      <td>200.0</td>\n",
       "      <td>Found</td>\n",
       "      <td>1976.0</td>\n",
       "      <td>33.98333</td>\n",
       "      <td>-115.68333</td>\n",
       "      <td>(33.98333, -115.68333)</td>\n",
       "    </tr>\n",
       "  </tbody>\n",
       "</table>\n",
       "<p>45716 rows × 9 columns</p>\n",
       "</div>"
      ],
      "text/plain": [
       "             name nametype              recclass  mass (g)   fall    year  \\\n",
       "id                                                                          \n",
       "1          Aachen    Valid                    L5      21.0   Fell  1880.0   \n",
       "2          Aarhus    Valid                    H6     720.0   Fell  1951.0   \n",
       "6            Abee    Valid                   EH4  107000.0   Fell  1952.0   \n",
       "10       Acapulco    Valid           Acapulcoite    1914.0   Fell  1976.0   \n",
       "370       Achiras    Valid                    L6     780.0   Fell  1902.0   \n",
       "...           ...      ...                   ...       ...    ...     ...   \n",
       "31356  Zillah 002    Valid               Eucrite     172.0  Found  1990.0   \n",
       "30409      Zinder    Valid  Pallasite, ungrouped      46.0  Found  1999.0   \n",
       "30410        Zlin    Valid                    H4       3.3  Found  1939.0   \n",
       "31357   Zubkovsky    Valid                    L6    2167.0  Found  2003.0   \n",
       "30414  Zulu Queen    Valid                  L3.7     200.0  Found  1976.0   \n",
       "\n",
       "         reclat    reclong             GeoLocation  \n",
       "id                                                  \n",
       "1      50.77500    6.08333       (50.775, 6.08333)  \n",
       "2      56.18333   10.23333    (56.18333, 10.23333)  \n",
       "6      54.21667 -113.00000      (54.21667, -113.0)  \n",
       "10     16.88333  -99.90000       (16.88333, -99.9)  \n",
       "370   -33.16667  -64.95000     (-33.16667, -64.95)  \n",
       "...         ...        ...                     ...  \n",
       "31356  29.03700   17.01850       (29.037, 17.0185)  \n",
       "30409  13.78333    8.96667     (13.78333, 8.96667)  \n",
       "30410  49.25000   17.66667       (49.25, 17.66667)  \n",
       "31357  49.78917   41.50460     (49.78917, 41.5046)  \n",
       "30414  33.98333 -115.68333  (33.98333, -115.68333)  \n",
       "\n",
       "[45716 rows x 9 columns]"
      ]
     },
     "execution_count": 2,
     "metadata": {},
     "output_type": "execute_result"
    }
   ],
   "source": [
    "df = pd.read_csv(\n",
    "    './data/Meteorite_Landings.csv',\n",
    "    index_col=1\n",
    ")\n",
    "df"
   ]
  },
  {
   "cell_type": "code",
   "execution_count": 3,
   "metadata": {},
   "outputs": [
    {
     "name": "stdout",
     "output_type": "stream",
     "text": [
      "<class 'pandas.core.frame.DataFrame'>\n",
      "Int64Index: 45716 entries, 1 to 30414\n",
      "Data columns (total 9 columns):\n",
      " #   Column       Non-Null Count  Dtype  \n",
      "---  ------       --------------  -----  \n",
      " 0   name         45716 non-null  object \n",
      " 1   nametype     45716 non-null  object \n",
      " 2   recclass     45716 non-null  object \n",
      " 3   mass (g)     45585 non-null  float64\n",
      " 4   fall         45716 non-null  object \n",
      " 5   year         45425 non-null  float64\n",
      " 6   reclat       38401 non-null  float64\n",
      " 7   reclong      38401 non-null  float64\n",
      " 8   GeoLocation  38401 non-null  object \n",
      "dtypes: float64(4), object(5)\n",
      "memory usage: 3.5+ MB\n"
     ]
    }
   ],
   "source": [
    "df.info()"
   ]
  },
  {
   "cell_type": "markdown",
   "metadata": {},
   "source": [
    "I am interested in seeing the years with the most meteorite landings according to this dataset from Nasa"
   ]
  },
  {
   "cell_type": "code",
   "execution_count": 4,
   "metadata": {},
   "outputs": [
    {
     "data": {
      "text/plain": [
       "<AxesSubplot: >"
      ]
     },
     "execution_count": 4,
     "metadata": {},
     "output_type": "execute_result"
    },
    {
     "data": {
      "image/png": "[encoded data removed]",
      "text/plain": [
       "<Figure size 1296x720 with 1 Axes>"
      ]
     },
     "metadata": {
      "needs_background": "light"
     },
     "output_type": "display_data"
    }
   ],
   "source": [
    "df['year'].value_counts().plot(kind='bar', figsize=(18,10))"
   ]
  },
  {
   "cell_type": "markdown",
   "metadata": {},
   "source": [
    "This chart is absaloutely unusable due to the wide range of years available and there is simply too many."
   ]
  },
  {
   "cell_type": "code",
   "execution_count": 5,
   "metadata": {},
   "outputs": [
    {
     "data": {
      "text/plain": [
       "count     265.000000\n",
       "mean      171.415094\n",
       "std       505.545941\n",
       "min         1.000000\n",
       "25%         2.000000\n",
       "50%        10.000000\n",
       "75%        22.000000\n",
       "max      3323.000000\n",
       "Name: year, dtype: float64"
      ]
     },
     "execution_count": 5,
     "metadata": {},
     "output_type": "execute_result"
    }
   ],
   "source": [
    "year_counts = df['year'].value_counts()\n",
    "year_counts.describe()"
   ]
  },
  {
   "cell_type": "code",
   "execution_count": 6,
   "metadata": {},
   "outputs": [
    {
     "data": {
      "text/html": [
       "<div>\n",
       "<style scoped>\n",
       "    .dataframe tbody tr th:only-of-type {\n",
       "        vertical-align: middle;\n",
       "    }\n",
       "\n",
       "    .dataframe tbody tr th {\n",
       "        vertical-align: top;\n",
       "    }\n",
       "\n",
       "    .dataframe thead th {\n",
       "        text-align: right;\n",
       "    }\n",
       "</style>\n",
       "<table border=\"1\" class=\"dataframe\">\n",
       "  <thead>\n",
       "    <tr style=\"text-align: right;\">\n",
       "      <th></th>\n",
       "      <th>name</th>\n",
       "      <th>nametype</th>\n",
       "      <th>recclass</th>\n",
       "      <th>mass (g)</th>\n",
       "      <th>fall</th>\n",
       "      <th>year</th>\n",
       "      <th>reclat</th>\n",
       "      <th>reclong</th>\n",
       "      <th>GeoLocation</th>\n",
       "    </tr>\n",
       "    <tr>\n",
       "      <th>id</th>\n",
       "      <th></th>\n",
       "      <th></th>\n",
       "      <th></th>\n",
       "      <th></th>\n",
       "      <th></th>\n",
       "      <th></th>\n",
       "      <th></th>\n",
       "      <th></th>\n",
       "      <th></th>\n",
       "    </tr>\n",
       "  </thead>\n",
       "  <tbody>\n",
       "    <tr>\n",
       "      <th>10</th>\n",
       "      <td>Acapulco</td>\n",
       "      <td>Valid</td>\n",
       "      <td>Acapulcoite</td>\n",
       "      <td>1914.0</td>\n",
       "      <td>Fell</td>\n",
       "      <td>1976.0</td>\n",
       "      <td>16.88333</td>\n",
       "      <td>-99.90000</td>\n",
       "      <td>(16.88333, -99.9)</td>\n",
       "    </tr>\n",
       "    <tr>\n",
       "      <th>390</th>\n",
       "      <td>Adzhi-Bogdo (stone)</td>\n",
       "      <td>Valid</td>\n",
       "      <td>LL3-6</td>\n",
       "      <td>910.0</td>\n",
       "      <td>Fell</td>\n",
       "      <td>1949.0</td>\n",
       "      <td>44.83333</td>\n",
       "      <td>95.16667</td>\n",
       "      <td>(44.83333, 95.16667)</td>\n",
       "    </tr>\n",
       "    <tr>\n",
       "      <th>423</th>\n",
       "      <td>Aioun el Atrouss</td>\n",
       "      <td>Valid</td>\n",
       "      <td>Diogenite-pm</td>\n",
       "      <td>1000.0</td>\n",
       "      <td>Fell</td>\n",
       "      <td>1974.0</td>\n",
       "      <td>16.39806</td>\n",
       "      <td>-9.57028</td>\n",
       "      <td>(16.39806, -9.57028)</td>\n",
       "    </tr>\n",
       "    <tr>\n",
       "      <th>426</th>\n",
       "      <td>Akaba</td>\n",
       "      <td>Valid</td>\n",
       "      <td>L6</td>\n",
       "      <td>779.0</td>\n",
       "      <td>Fell</td>\n",
       "      <td>1949.0</td>\n",
       "      <td>29.51667</td>\n",
       "      <td>35.05000</td>\n",
       "      <td>(29.51667, 35.05)</td>\n",
       "    </tr>\n",
       "    <tr>\n",
       "      <th>433</th>\n",
       "      <td>Akyumak</td>\n",
       "      <td>Valid</td>\n",
       "      <td>Iron, IVA</td>\n",
       "      <td>50000.0</td>\n",
       "      <td>Fell</td>\n",
       "      <td>1981.0</td>\n",
       "      <td>39.91667</td>\n",
       "      <td>42.81667</td>\n",
       "      <td>(39.91667, 42.81667)</td>\n",
       "    </tr>\n",
       "    <tr>\n",
       "      <th>...</th>\n",
       "      <td>...</td>\n",
       "      <td>...</td>\n",
       "      <td>...</td>\n",
       "      <td>...</td>\n",
       "      <td>...</td>\n",
       "      <td>...</td>\n",
       "      <td>...</td>\n",
       "      <td>...</td>\n",
       "      <td>...</td>\n",
       "    </tr>\n",
       "    <tr>\n",
       "      <th>31356</th>\n",
       "      <td>Zillah 002</td>\n",
       "      <td>Valid</td>\n",
       "      <td>Eucrite</td>\n",
       "      <td>172.0</td>\n",
       "      <td>Found</td>\n",
       "      <td>1990.0</td>\n",
       "      <td>29.03700</td>\n",
       "      <td>17.01850</td>\n",
       "      <td>(29.037, 17.0185)</td>\n",
       "    </tr>\n",
       "    <tr>\n",
       "      <th>30409</th>\n",
       "      <td>Zinder</td>\n",
       "      <td>Valid</td>\n",
       "      <td>Pallasite, ungrouped</td>\n",
       "      <td>46.0</td>\n",
       "      <td>Found</td>\n",
       "      <td>1999.0</td>\n",
       "      <td>13.78333</td>\n",
       "      <td>8.96667</td>\n",
       "      <td>(13.78333, 8.96667)</td>\n",
       "    </tr>\n",
       "    <tr>\n",
       "      <th>30410</th>\n",
       "      <td>Zlin</td>\n",
       "      <td>Valid</td>\n",
       "      <td>H4</td>\n",
       "      <td>3.3</td>\n",
       "      <td>Found</td>\n",
       "      <td>1939.0</td>\n",
       "      <td>49.25000</td>\n",
       "      <td>17.66667</td>\n",
       "      <td>(49.25, 17.66667)</td>\n",
       "    </tr>\n",
       "    <tr>\n",
       "      <th>31357</th>\n",
       "      <td>Zubkovsky</td>\n",
       "      <td>Valid</td>\n",
       "      <td>L6</td>\n",
       "      <td>2167.0</td>\n",
       "      <td>Found</td>\n",
       "      <td>2003.0</td>\n",
       "      <td>49.78917</td>\n",
       "      <td>41.50460</td>\n",
       "      <td>(49.78917, 41.5046)</td>\n",
       "    </tr>\n",
       "    <tr>\n",
       "      <th>30414</th>\n",
       "      <td>Zulu Queen</td>\n",
       "      <td>Valid</td>\n",
       "      <td>L3.7</td>\n",
       "      <td>200.0</td>\n",
       "      <td>Found</td>\n",
       "      <td>1976.0</td>\n",
       "      <td>33.98333</td>\n",
       "      <td>-115.68333</td>\n",
       "      <td>(33.98333, -115.68333)</td>\n",
       "    </tr>\n",
       "  </tbody>\n",
       "</table>\n",
       "<p>43938 rows × 9 columns</p>\n",
       "</div>"
      ],
      "text/plain": [
       "                      name nametype              recclass  mass (g)   fall  \\\n",
       "id                                                                           \n",
       "10                Acapulco    Valid           Acapulcoite    1914.0   Fell   \n",
       "390    Adzhi-Bogdo (stone)    Valid                 LL3-6     910.0   Fell   \n",
       "423       Aioun el Atrouss    Valid          Diogenite-pm    1000.0   Fell   \n",
       "426                  Akaba    Valid                    L6     779.0   Fell   \n",
       "433                Akyumak    Valid             Iron, IVA   50000.0   Fell   \n",
       "...                    ...      ...                   ...       ...    ...   \n",
       "31356           Zillah 002    Valid               Eucrite     172.0  Found   \n",
       "30409               Zinder    Valid  Pallasite, ungrouped      46.0  Found   \n",
       "30410                 Zlin    Valid                    H4       3.3  Found   \n",
       "31357            Zubkovsky    Valid                    L6    2167.0  Found   \n",
       "30414           Zulu Queen    Valid                  L3.7     200.0  Found   \n",
       "\n",
       "         year    reclat    reclong             GeoLocation  \n",
       "id                                                          \n",
       "10     1976.0  16.88333  -99.90000       (16.88333, -99.9)  \n",
       "390    1949.0  44.83333   95.16667    (44.83333, 95.16667)  \n",
       "423    1974.0  16.39806   -9.57028    (16.39806, -9.57028)  \n",
       "426    1949.0  29.51667   35.05000       (29.51667, 35.05)  \n",
       "433    1981.0  39.91667   42.81667    (39.91667, 42.81667)  \n",
       "...       ...       ...        ...                     ...  \n",
       "31356  1990.0  29.03700   17.01850       (29.037, 17.0185)  \n",
       "30409  1999.0  13.78333    8.96667     (13.78333, 8.96667)  \n",
       "30410  1939.0  49.25000   17.66667       (49.25, 17.66667)  \n",
       "31357  2003.0  49.78917   41.50460     (49.78917, 41.5046)  \n",
       "30414  1976.0  33.98333 -115.68333  (33.98333, -115.68333)  \n",
       "\n",
       "[43938 rows x 9 columns]"
      ]
     },
     "execution_count": 6,
     "metadata": {},
     "output_type": "execute_result"
    }
   ],
   "source": [
    "# lets do the same thing as the above chart but lets look at the upper quartile for the data for the most common years\n",
    "year_counts = year_counts[year_counts > 22].index \n",
    "years_filtered_df = df[df['year'].isin(year_counts)]\n",
    "years_filtered_df"
   ]
  },
  {
   "cell_type": "code",
   "execution_count": 7,
   "metadata": {},
   "outputs": [
    {
     "data": {
      "text/plain": [
       "<AxesSubplot: >"
      ]
     },
     "execution_count": 7,
     "metadata": {},
     "output_type": "execute_result"
    },
    {
     "data": {
      "image/png": "[encoded data removed]",
      "text/plain": [
       "<Figure size 1296x720 with 1 Axes>"
      ]
     },
     "metadata": {
      "needs_background": "light"
     },
     "output_type": "display_data"
    }
   ],
   "source": [
    "years_filtered_df['year'].value_counts().plot(kind='bar', figsize=(18,10))"
   ]
  },
  {
   "cell_type": "markdown",
   "metadata": {},
   "source": [
    "This bar graph gives a much better view for the years with the most amount of meteorite landings."
   ]
  },
  {
   "cell_type": "code",
   "execution_count": 8,
   "metadata": {},
   "outputs": [
    {
     "data": {
      "text/plain": [
       "count     466.000000\n",
       "mean       98.103004\n",
       "std       641.800004\n",
       "min         1.000000\n",
       "25%         1.000000\n",
       "50%         4.000000\n",
       "75%        17.000000\n",
       "max      8285.000000\n",
       "Name: recclass, dtype: float64"
      ]
     },
     "execution_count": 8,
     "metadata": {},
     "output_type": "execute_result"
    }
   ],
   "source": [
    "# Similar process for seeing the type of meteorite that is most common.\n",
    "class_counts = df['recclass'].value_counts()\n",
    "class_counts.describe()"
   ]
  },
  {
   "cell_type": "code",
   "execution_count": 9,
   "metadata": {},
   "outputs": [
    {
     "data": {
      "text/plain": [
       "<AxesSubplot: >"
      ]
     },
     "execution_count": 9,
     "metadata": {},
     "output_type": "execute_result"
    },
    {
     "data": {
      "image/png": "[encoded data removed]",
      "text/plain": [
       "<Figure size 1296x720 with 1 Axes>"
      ]
     },
     "metadata": {
      "needs_background": "light"
     },
     "output_type": "display_data"
    }
   ],
   "source": [
    "# This time filtering out by the mean of meteorite classes.\n",
    "class_counts = class_counts[class_counts > class_counts.mean()].index \n",
    "class_filtered_df = df[df['recclass'].isin(class_counts)]\n",
    "class_filtered_df['recclass'].value_counts().plot(kind='bar', figsize=(18,10))"
   ]
  },
  {
   "cell_type": "markdown",
   "metadata": {},
   "source": [
    "### Information on meteorite classification: \n",
    "[NASA meteorite classification chart](https://curator.jsc.nasa.gov/Education/classification.cfm)  \n",
    "From this chart we can see that the H, L, and LL classifications fall under the undifferentiated meteorites that are ordinary chondrites. These take up the first 9 spots for the most common classification, before a Carbonaceous chondrite shows up in the 10th spot with CM2. The numbers associated the the H, L, and LL classifications are subcategories for those groups. \n",
    "\n",
    "The L6 is the most common meteorite kind and the 6 refers to a meteorite that has \"been metamorphosed under conditions sufficient to homogenize all mineral compositions, convert all low-Ca pyroxene to orthopyroxene, coarsen secondary phases such as feldspar to sizes ≥50 µm, and obliterate many chondrule outlines; no melting has occurred\" ([Meteoritical Society](https://www.lpi.usra.edu/meteor/metbullclass.php?sea=L6))."
   ]
  },
  {
   "cell_type": "markdown",
   "metadata": {},
   "source": [
    "\n",
    "---\n",
    "\n",
    "Now I am interested in being able to see the locations for the meteorite landings."
   ]
  },
  {
   "cell_type": "code",
   "execution_count": 10,
   "metadata": {},
   "outputs": [
    {
     "data": {
      "text/plain": [
       "<AxesSubplot: xlabel='reclong', ylabel='reclat'>"
      ]
     },
     "execution_count": 10,
     "metadata": {},
     "output_type": "execute_result"
    },
    {
     "data": {
      "image/png": "[encoded data removed]",
      "text/plain": [
       "<Figure size 1296x648 with 1 Axes>"
      ]
     },
     "metadata": {
      "needs_background": "light"
     },
     "output_type": "display_data"
    }
   ],
   "source": [
    "# We know that reclat and reclong have null values so we will just not plot those values\n",
    "lat_long_df = df.dropna(subset=['reclat', 'reclong'])\n",
    "\n",
    "lat_long_df.plot(kind='scatter', x='reclong', y='reclat', figsize=(18,9))\n"
   ]
  },
  {
   "cell_type": "markdown",
   "metadata": {},
   "source": [
    "While it is expected, it is fun to see the outline of the world map for the meteorite landings!  \n",
    "However, there does seem to be the lone meteorite with the longitude of over 300 (and possibly over the expected values of -180 to 180 for W/E), which seems weird since the globe is round and going East off of Asia would have you wrap back around, so that meteorite should be more with the others maybe? Possible that this should be recorded as -120 to place it at 120W. \n"
   ]
  },
  {
   "cell_type": "code",
   "execution_count": 11,
   "metadata": {},
   "outputs": [
    {
     "data": {
      "text/plain": [
       "count    38401.000000\n",
       "mean        61.074319\n",
       "std         80.647298\n",
       "min       -165.433330\n",
       "25%          0.000000\n",
       "50%         35.666670\n",
       "75%        157.166670\n",
       "max        354.473330\n",
       "Name: reclong, dtype: float64"
      ]
     },
     "execution_count": 11,
     "metadata": {},
     "output_type": "execute_result"
    }
   ],
   "source": [
    "# seems like the minimum is within the expected 180 degrees\n",
    "lat_long_df['reclong'].describe()"
   ]
  },
  {
   "cell_type": "code",
   "execution_count": 12,
   "metadata": {},
   "outputs": [
    {
     "data": {
      "text/plain": [
       "count    38401.000000\n",
       "mean       -39.122580\n",
       "std         46.378511\n",
       "min        -87.366670\n",
       "25%        -76.714240\n",
       "50%        -71.500000\n",
       "75%          0.000000\n",
       "max         81.166670\n",
       "Name: reclat, dtype: float64"
      ]
     },
     "execution_count": 12,
     "metadata": {},
     "output_type": "execute_result"
    }
   ],
   "source": [
    "# the min and max are within the 90 degrees expected for latitude.\n",
    "lat_long_df['reclat'].describe()"
   ]
  },
  {
   "cell_type": "code",
   "execution_count": 13,
   "metadata": {},
   "outputs": [
    {
     "data": {
      "text/html": [
       "<div>\n",
       "<style scoped>\n",
       "    .dataframe tbody tr th:only-of-type {\n",
       "        vertical-align: middle;\n",
       "    }\n",
       "\n",
       "    .dataframe tbody tr th {\n",
       "        vertical-align: top;\n",
       "    }\n",
       "\n",
       "    .dataframe thead th {\n",
       "        text-align: right;\n",
       "    }\n",
       "</style>\n",
       "<table border=\"1\" class=\"dataframe\">\n",
       "  <thead>\n",
       "    <tr style=\"text-align: right;\">\n",
       "      <th></th>\n",
       "      <th>name</th>\n",
       "      <th>nametype</th>\n",
       "      <th>recclass</th>\n",
       "      <th>mass (g)</th>\n",
       "      <th>fall</th>\n",
       "      <th>year</th>\n",
       "      <th>reclat</th>\n",
       "      <th>reclong</th>\n",
       "      <th>GeoLocation</th>\n",
       "    </tr>\n",
       "    <tr>\n",
       "      <th>id</th>\n",
       "      <th></th>\n",
       "      <th></th>\n",
       "      <th></th>\n",
       "      <th></th>\n",
       "      <th></th>\n",
       "      <th></th>\n",
       "      <th></th>\n",
       "      <th></th>\n",
       "      <th></th>\n",
       "    </tr>\n",
       "  </thead>\n",
       "  <tbody>\n",
       "    <tr>\n",
       "      <th>32789</th>\n",
       "      <td>Meridiani Planum</td>\n",
       "      <td>Valid</td>\n",
       "      <td>Iron, IAB complex</td>\n",
       "      <td>NaN</td>\n",
       "      <td>Found</td>\n",
       "      <td>2005.0</td>\n",
       "      <td>-1.94617</td>\n",
       "      <td>354.47333</td>\n",
       "      <td>(-1.94617, 354.47333)</td>\n",
       "    </tr>\n",
       "  </tbody>\n",
       "</table>\n",
       "</div>"
      ],
      "text/plain": [
       "                   name nametype           recclass  mass (g)   fall    year  \\\n",
       "id                                                                             \n",
       "32789  Meridiani Planum    Valid  Iron, IAB complex       NaN  Found  2005.0   \n",
       "\n",
       "        reclat    reclong            GeoLocation  \n",
       "id                                                \n",
       "32789 -1.94617  354.47333  (-1.94617, 354.47333)  "
      ]
     },
     "execution_count": 13,
     "metadata": {},
     "output_type": "execute_result"
    }
   ],
   "source": [
    "# This is the meteorite that is the apparent outlier on the scatterplot\n",
    "lat_long_df[lat_long_df['reclong'] == lat_long_df['reclong'].max()]"
   ]
  },
  {
   "cell_type": "markdown",
   "metadata": {},
   "source": [
    "The meridiani planum is a large area on Mars that is one of the most investigated regions, and there was a Iron meteorite found on this area, and it was \"the first meteorite found on another planet\" ([mindat.org](https://www.mindat.org/loc-232105.html))."
   ]
  },
  {
   "cell_type": "code",
   "execution_count": 15,
   "metadata": {},
   "outputs": [
    {
     "data": {
      "text/plain": [
       "<AxesSubplot: >"
      ]
     },
     "execution_count": 15,
     "metadata": {},
     "output_type": "execute_result"
    },
    {
     "data": {
      "image/png": "[encoded data removed]",
      "text/plain": [
       "<Figure size 1008x504 with 1 Axes>"
      ]
     },
     "metadata": {
      "needs_background": "light"
     },
     "output_type": "display_data"
    }
   ],
   "source": [
    "df['mass (g)'].plot(kind='box', figsize=(14,7))"
   ]
  },
  {
   "cell_type": "markdown",
   "metadata": {},
   "source": [
    "This box plot is not very useful for us at all, lets investigate."
   ]
  },
  {
   "cell_type": "code",
   "execution_count": 16,
   "metadata": {},
   "outputs": [
    {
     "data": {
      "text/plain": [
       "count    4.558500e+04\n",
       "mean     1.327808e+04\n",
       "std      5.749889e+05\n",
       "min      0.000000e+00\n",
       "25%      7.200000e+00\n",
       "50%      3.260000e+01\n",
       "75%      2.026000e+02\n",
       "max      6.000000e+07\n",
       "Name: mass (g), dtype: float64"
      ]
     },
     "execution_count": 16,
     "metadata": {},
     "output_type": "execute_result"
    }
   ],
   "source": [
    "df['mass (g)'].describe()"
   ]
  },
  {
   "cell_type": "code",
   "execution_count": 26,
   "metadata": {},
   "outputs": [
    {
     "name": "stdout",
     "output_type": "stream",
     "text": [
      "Empty DataFrame\n",
      "Columns: [name, nametype, recclass, mass (g), fall, year, reclat, reclong, GeoLocation]\n",
      "Index: []\n"
     ]
    }
   ],
   "source": [
    "# using scipy to get z score for detecting outliers. Z score is a value for the standard deviations away from the mean an object is\n",
    "z_scores = stats.zscore(df['mass (g)'])\n",
    "# 3 is a common z score used, however using a smaller threshold does not change this.\n",
    "mass_outliers = df[abs(z_scores) > 3]\n",
    "print(mass_outliers)"
   ]
  },
  {
   "cell_type": "markdown",
   "metadata": {},
   "source": [
    "Using this method does not seem to come back with any outliers. Looking at the standard deviation, this makes sense as the spread is so wide. \n",
    "\n",
    "Lets try to use the Interquartile method for trying to find outliers, as this looks more promising looking at the above descriptive stats."
   ]
  },
  {
   "cell_type": "code",
   "execution_count": 27,
   "metadata": {},
   "outputs": [
    {
     "name": "stdout",
     "output_type": "stream",
     "text": [
      "             name nametype           recclass   mass (g)   fall    year  \\\n",
      "id                                                                        \n",
      "2          Aarhus    Valid                 H6      720.0   Fell  1951.0   \n",
      "6            Abee    Valid                EH4   107000.0   Fell  1952.0   \n",
      "10       Acapulco    Valid        Acapulcoite     1914.0   Fell  1976.0   \n",
      "370       Achiras    Valid                 L6      780.0   Fell  1902.0   \n",
      "379      Adhi Kot    Valid                EH4     4239.0   Fell  1919.0   \n",
      "...           ...      ...                ...        ...    ...     ...   \n",
      "54609    Zhaoping    Valid  Iron, IAB complex  2000000.0  Found  1983.0   \n",
      "30405    Zhigansk    Valid        Iron, IIIAB   900000.0  Found  1966.0   \n",
      "30406  Zhongxiang    Valid               Iron   100000.0  Found  1981.0   \n",
      "31355  Zillah 001    Valid                 L6     1475.0  Found  1990.0   \n",
      "31357   Zubkovsky    Valid                 L6     2167.0  Found  2003.0   \n",
      "\n",
      "         reclat    reclong            GeoLocation  \n",
      "id                                                 \n",
      "2      56.18333   10.23333   (56.18333, 10.23333)  \n",
      "6      54.21667 -113.00000     (54.21667, -113.0)  \n",
      "10     16.88333  -99.90000      (16.88333, -99.9)  \n",
      "370   -33.16667  -64.95000    (-33.16667, -64.95)  \n",
      "379    32.10000   71.80000           (32.1, 71.8)  \n",
      "...         ...        ...                    ...  \n",
      "54609  24.23333  111.18333  (24.23333, 111.18333)  \n",
      "30405  68.00000  128.30000          (68.0, 128.3)  \n",
      "30406  31.20000  112.50000          (31.2, 112.5)  \n",
      "31355  29.03700   17.01850      (29.037, 17.0185)  \n",
      "31357  49.78917   41.50460    (49.78917, 41.5046)  \n",
      "\n",
      "[7086 rows x 9 columns]\n"
     ]
    }
   ],
   "source": [
    "# Lower and upper bounds for outliers. using: Q1 - (1.5 * IQR), and Q3 + (1.5 * IQR)\n",
    "lower_bound = df['mass (g)'].quantile(0.25) - 1.5 * (df['mass (g)'].quantile(0.75) - df['mass (g)'].quantile(0.25))\n",
    "upper_bound = df['mass (g)'].quantile(0.75) + 1.5 * (df['mass (g)'].quantile(0.75) - df['mass (g)'].quantile(0.25))\n",
    "\n",
    "# filtering out the outliers\n",
    "mass_outliers = df[(df['mass (g)'] < lower_bound) | (df['mass (g)'] > upper_bound)]\n",
    "print(mass_outliers)"
   ]
  },
  {
   "cell_type": "code",
   "execution_count": 32,
   "metadata": {},
   "outputs": [
    {
     "data": {
      "text/plain": [
       "<AxesSubplot: >"
      ]
     },
     "execution_count": 32,
     "metadata": {},
     "output_type": "execute_result"
    },
    {
     "data": {
      "image/png": "[encoded data removed]",
      "text/plain": [
       "<Figure size 648x1296 with 1 Axes>"
      ]
     },
     "metadata": {
      "needs_background": "light"
     },
     "output_type": "display_data"
    }
   ],
   "source": [
    "df['mass (g)'][(df['mass (g)'] > lower_bound) & (df['mass (g)'] < upper_bound)].plot(kind='box', figsize=(9, 18))"
   ]
  },
  {
   "cell_type": "markdown",
   "metadata": {},
   "source": [
    "Through using the IQR, the box plot definetly is more visible now. Due to how varied the weights for the meteorites are, it seems like we still have a large amount of outliers on this box plot, and it seeme like there is a very large amount of small meteorite chunks that all weigh about the same, and then a very large amount of spread out meteorites found that weigh a lot. "
   ]
  },
  {
   "cell_type": "markdown",
   "metadata": {},
   "source": []
  }
 ],
 "metadata": {
  "kernelspec": {
   "display_name": "Python 3",
   "language": "python",
   "name": "python3"
  },
  "language_info": {
   "codemirror_mode": {
    "name": "ipython",
    "version": 3
   },
   "file_extension": ".py",
   "mimetype": "text/x-python",
   "name": "python",
   "nbconvert_exporter": "python",
   "pygments_lexer": "ipython3",
   "version": "3.9.13"
  },
  "orig_nbformat": 4
 },
 "nbformat": 4,
 "nbformat_minor": 2
}
